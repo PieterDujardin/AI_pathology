{
 "cells": [
  {
   "cell_type": "code",
   "execution_count": 1,
   "metadata": {},
   "outputs": [],
   "source": [
    "import os\n",
    "from openslide import OpenSlide\n",
    "import matplotlib.pyplot as plt\n",
    "\n",
    "import os\n",
    "import sys\n",
    "import glob\n",
    "import random\n",
    "import pickle\n",
    "import numpy as np\n",
    "import pandas as pd\n",
    "from PIL import Image\n",
    "from skimage import color\n",
    "from skimage import filters\n",
    "from skimage.morphology import disk\n",
    "from openslide import OpenSlide, OpenSlideUnsupportedFormatError\n",
    "\n",
    "import histolab\n",
    "from histolab.slide import Slide\n",
    "from histolab.types import CoordinatePair\n",
    "from histolab.masks import BinaryMask\n",
    "\n",
    "from skimage.color import rgb2hsv\n",
    "from skimage.filters import threshold_otsu\n",
    "\n",
    "from histolab.tiler import GridTiler"
   ]
  },
  {
   "cell_type": "code",
   "execution_count": null,
   "metadata": {},
   "outputs": [],
   "source": []
  },
  {
   "cell_type": "code",
   "execution_count": null,
   "metadata": {},
   "outputs": [],
   "source": []
  },
  {
   "cell_type": "code",
   "execution_count": 7,
   "metadata": {},
   "outputs": [],
   "source": [
    "level = 8 #changes the shape dimensions of the binarymask, makes more sense to do masking on a higher level \n",
    "RGB_min = 10 #the smaller the more intensified the yellow map is (bigger mask (more 1s))\n",
    "\n",
    "class MaskwithSegmentTissue(BinaryMask):\n",
    "    def _mask(self, slide):  # pragma: no cover\n",
    "        # This property will be supplied by the inheriting classes individually\n",
    "        extractedtile = slide.extract_tile(coords = CoordinatePair(0,0,0,0), level = level, tile_size = slide.level_dimensions(level))\n",
    "        extractedtile= extractedtile.image.convert('RGB')\n",
    "\n",
    "        # note the shape of img_RGB is the transpose of slide.level_dimensions\n",
    "#         img_RGB = np.transpose(np.array(extractedtile),\n",
    "#                        axes=[1, 0, 2])\n",
    "        img_RGB = np.array(extractedtile)\n",
    "\n",
    "\n",
    "        img_HSV = rgb2hsv(img_RGB)\n",
    "\n",
    "        background_R = img_RGB[:, :, 0] > threshold_otsu(img_RGB[:, :, 0])\n",
    "        background_G = img_RGB[:, :, 1] > threshold_otsu(img_RGB[:, :, 1])\n",
    "        background_B = img_RGB[:, :, 2] > threshold_otsu(img_RGB[:, :, 2])\n",
    "        tissue_RGB = np.logical_not(background_R & background_G & background_B)\n",
    "        tissue_S = img_HSV[:, :, 1] > threshold_otsu(img_HSV[:, :, 1])\n",
    "        min_R = img_RGB[:, :, 0] > RGB_min\n",
    "        min_G = img_RGB[:, :, 1] > RGB_min\n",
    "        min_B = img_RGB[:, :, 2] > RGB_min\n",
    "\n",
    "        tissue_mask = tissue_S & tissue_RGB & min_R & min_G & min_B\n",
    "\n",
    "        return tissue_mask \n",
    "    "
   ]
  },
  {
   "cell_type": "code",
   "execution_count": 3,
   "metadata": {},
   "outputs": [
    {
     "data": {
      "text/plain": [
       "array([[False, False, False, ..., False, False, False],\n",
       "       [False, False, False, ..., False, False, False],\n",
       "       [False, False, False, ..., False, False, False],\n",
       "       ...,\n",
       "       [False, False, False, ..., False, False, False],\n",
       "       [False, False, False, ..., False, False, False],\n",
       "       [False, False, False, ..., False, False, False]])"
      ]
     },
     "execution_count": 3,
     "metadata": {},
     "output_type": "execute_result"
    }
   ],
   "source": [
    "image_path = '/Users/imac/Documents/Documents_Pieter_MacBook_Pro/0MasterAI/THESIS/data/CAMELYON/normal_001.tif'\n",
    "processed_path = '/Users/imac/Documents/Documents_Pieter_MacBook_Pro/0MasterAI/THESIS/data/CAMELYON/processedimage'\n",
    "firstslide = Slide(image_path,processed_path) #input and output path \n",
    "\n",
    "binary_mask = MaskwithSegmentTissue()\n",
    "binary_mask(firstslide)\n",
    "# plt.imshow(binary_mask(firstslide))\n",
    "\n",
    "\n"
   ]
  },
  {
   "cell_type": "code",
   "execution_count": 1,
   "metadata": {
    "scrolled": false
   },
   "outputs": [
    {
     "ename": "NameError",
     "evalue": "name 'firstslide' is not defined",
     "output_type": "error",
     "traceback": [
      "\u001b[0;31m---------------------------------------------------------------------------\u001b[0m",
      "\u001b[0;31mNameError\u001b[0m                                 Traceback (most recent call last)",
      "\u001b[0;32m<ipython-input-1-e6db4c564df4>\u001b[0m in \u001b[0;36m<module>\u001b[0;34m\u001b[0m\n\u001b[0;32m----> 1\u001b[0;31m \u001b[0mfirstslide\u001b[0m\u001b[0;34m.\u001b[0m\u001b[0mscaled_image\u001b[0m\u001b[0;34m(\u001b[0m\u001b[0;34m)\u001b[0m\u001b[0;34m\u001b[0m\u001b[0;34m\u001b[0m\u001b[0m\n\u001b[0m",
      "\u001b[0;31mNameError\u001b[0m: name 'firstslide' is not defined"
     ]
    }
   ],
   "source": [
    "firstslide.scaled_image()"
   ]
  },
  {
   "cell_type": "code",
   "execution_count": 30,
   "metadata": {},
   "outputs": [
    {
     "data": {
      "text/plain": [
       "(3456, 1528)"
      ]
     },
     "execution_count": 30,
     "metadata": {},
     "output_type": "execute_result"
    }
   ],
   "source": [
    "binary_mask = MaskwithSegmentTissue()\n",
    "binary_mask(firstslide).shape #height, width "
   ]
  },
  {
   "cell_type": "code",
   "execution_count": 31,
   "metadata": {},
   "outputs": [
    {
     "data": {
      "text/plain": [
       "<matplotlib.image.AxesImage at 0x7f83f8ac5070>"
      ]
     },
     "execution_count": 31,
     "metadata": {},
     "output_type": "execute_result"
    },
    {
     "data": {
      "image/png": "[encoded data removed]",
      "text/plain": [
       "<Figure size 432x288 with 1 Axes>"
      ]
     },
     "metadata": {
      "needs_background": "light"
     },
     "output_type": "display_data"
    }
   ],
   "source": [
    "binary_mask = MaskwithSegmentTissue()\n",
    "plt.imshow(binary_mask(firstslide))"
   ]
  },
  {
   "cell_type": "code",
   "execution_count": 32,
   "metadata": {},
   "outputs": [
    {
     "data": {
      "text/plain": [
       "(1528, 3456)"
      ]
     },
     "execution_count": 32,
     "metadata": {},
     "output_type": "execute_result"
    }
   ],
   "source": [
    "firstslide.level_dimensions(6) #Return the slide dimensions (w,h)"
   ]
  },
  {
   "cell_type": "code",
   "execution_count": null,
   "metadata": {
    "scrolled": false
   },
   "outputs": [],
   "source": []
  },
  {
   "cell_type": "code",
   "execution_count": 2,
   "metadata": {
    "scrolled": false
   },
   "outputs": [
    {
     "ename": "NameError",
     "evalue": "name 'firstslide' is not defined",
     "output_type": "error",
     "traceback": [
      "\u001b[0;31m---------------------------------------------------------------------------\u001b[0m",
      "\u001b[0;31mNameError\u001b[0m                                 Traceback (most recent call last)",
      "\u001b[0;32m<ipython-input-2-0c938b97844e>\u001b[0m in \u001b[0;36m<module>\u001b[0;34m\u001b[0m\n\u001b[0;32m----> 1\u001b[0;31m \u001b[0mfirstslide\u001b[0m\u001b[0;34m.\u001b[0m\u001b[0mlocate_mask\u001b[0m\u001b[0;34m(\u001b[0m\u001b[0mbinary_mask\u001b[0m\u001b[0;34m=\u001b[0m \u001b[0mMaskwithSegmentTissue\u001b[0m\u001b[0;34m(\u001b[0m\u001b[0;34m)\u001b[0m\u001b[0;34m)\u001b[0m\u001b[0;34m\u001b[0m\u001b[0;34m\u001b[0m\u001b[0m\n\u001b[0m",
      "\u001b[0;31mNameError\u001b[0m: name 'firstslide' is not defined"
     ]
    }
   ],
   "source": [
    "firstslide.locate_mask(binary_mask= MaskwithSegmentTissue())"
   ]
  },
  {
   "cell_type": "code",
   "execution_count": 3,
   "metadata": {},
   "outputs": [
    {
     "ename": "NameError",
     "evalue": "name 'GridTiler' is not defined",
     "output_type": "error",
     "traceback": [
      "\u001b[0;31m---------------------------------------------------------------------------\u001b[0m",
      "\u001b[0;31mNameError\u001b[0m                                 Traceback (most recent call last)",
      "\u001b[0;32m<ipython-input-3-d2a8648cea6e>\u001b[0m in \u001b[0;36m<module>\u001b[0;34m\u001b[0m\n\u001b[1;32m      1\u001b[0m \u001b[0;31m# level should vary between 0,1 and 2\u001b[0m\u001b[0;34m\u001b[0m\u001b[0;34m\u001b[0m\u001b[0;34m\u001b[0m\u001b[0m\n\u001b[0;32m----> 2\u001b[0;31m \u001b[0mgridtiler\u001b[0m \u001b[0;34m=\u001b[0m \u001b[0mGridTiler\u001b[0m\u001b[0;34m(\u001b[0m\u001b[0mtile_size\u001b[0m \u001b[0;34m=\u001b[0m \u001b[0;34m(\u001b[0m\u001b[0;36m224\u001b[0m\u001b[0;34m,\u001b[0m\u001b[0;36m224\u001b[0m\u001b[0;34m)\u001b[0m\u001b[0;34m,\u001b[0m \u001b[0mlevel\u001b[0m\u001b[0;34m=\u001b[0m\u001b[0;36m4\u001b[0m\u001b[0;34m,\u001b[0m \u001b[0mtissue_percent\u001b[0m\u001b[0;34m=\u001b[0m\u001b[0;36m0.75\u001b[0m\u001b[0;34m)\u001b[0m\u001b[0;34m\u001b[0m\u001b[0;34m\u001b[0m\u001b[0m\n\u001b[0m\u001b[1;32m      3\u001b[0m \u001b[0mgridtiler\u001b[0m\u001b[0;34m.\u001b[0m\u001b[0mlocate_tiles\u001b[0m\u001b[0;34m(\u001b[0m\u001b[0mslide\u001b[0m \u001b[0;34m=\u001b[0m \u001b[0mfirstslide\u001b[0m\u001b[0;34m,\u001b[0m \u001b[0mextraction_mask\u001b[0m \u001b[0;34m=\u001b[0m \u001b[0mMaskwithSegmentTissue\u001b[0m\u001b[0;34m(\u001b[0m\u001b[0;34m)\u001b[0m\u001b[0;34m,\u001b[0m \u001b[0mscale_factor\u001b[0m\u001b[0;34m=\u001b[0m\u001b[0;36m32\u001b[0m\u001b[0;34m,\u001b[0m \u001b[0malpha\u001b[0m \u001b[0;34m=\u001b[0m \u001b[0;36m128\u001b[0m \u001b[0;34m)\u001b[0m\u001b[0;34m\u001b[0m\u001b[0;34m\u001b[0m\u001b[0m\n",
      "\u001b[0;31mNameError\u001b[0m: name 'GridTiler' is not defined"
     ]
    }
   ],
   "source": [
    "# level should vary between 0,1 and 2\n",
    "gridtiler = GridTiler(tile_size = (224,224), level=4, tissue_percent=0.75)\n",
    "gridtiler.locate_tiles(slide = firstslide, extraction_mask = MaskwithSegmentTissue(), scale_factor=32, alpha = 128 )"
   ]
  },
  {
   "cell_type": "code",
   "execution_count": 4,
   "metadata": {
    "scrolled": false
   },
   "outputs": [
    {
     "ename": "NameError",
     "evalue": "name 'GridTiler' is not defined",
     "output_type": "error",
     "traceback": [
      "\u001b[0;31m---------------------------------------------------------------------------\u001b[0m",
      "\u001b[0;31mNameError\u001b[0m                                 Traceback (most recent call last)",
      "\u001b[0;32m<ipython-input-4-1814fdc9cf14>\u001b[0m in \u001b[0;36m<module>\u001b[0;34m\u001b[0m\n\u001b[1;32m      1\u001b[0m \u001b[0;31m# level should vary between 0,1 and 2\u001b[0m\u001b[0;34m\u001b[0m\u001b[0;34m\u001b[0m\u001b[0;34m\u001b[0m\u001b[0m\n\u001b[0;32m----> 2\u001b[0;31m \u001b[0mgridtiler\u001b[0m \u001b[0;34m=\u001b[0m \u001b[0mGridTiler\u001b[0m\u001b[0;34m(\u001b[0m\u001b[0mtile_size\u001b[0m \u001b[0;34m=\u001b[0m \u001b[0;34m(\u001b[0m\u001b[0;36m224\u001b[0m\u001b[0;34m,\u001b[0m\u001b[0;36m224\u001b[0m\u001b[0;34m)\u001b[0m\u001b[0;34m,\u001b[0m \u001b[0mlevel\u001b[0m\u001b[0;34m=\u001b[0m\u001b[0;36m0\u001b[0m\u001b[0;34m,\u001b[0m \u001b[0mtissue_percent\u001b[0m\u001b[0;34m=\u001b[0m\u001b[0;36m0.75\u001b[0m\u001b[0;34m)\u001b[0m\u001b[0;34m\u001b[0m\u001b[0;34m\u001b[0m\u001b[0m\n\u001b[0m\u001b[1;32m      3\u001b[0m \u001b[0mgridtiler\u001b[0m\u001b[0;34m.\u001b[0m\u001b[0mlocate_tiles\u001b[0m\u001b[0;34m(\u001b[0m\u001b[0mslide\u001b[0m \u001b[0;34m=\u001b[0m \u001b[0mfirstslide\u001b[0m\u001b[0;34m,\u001b[0m \u001b[0mextraction_mask\u001b[0m \u001b[0;34m=\u001b[0m \u001b[0mMaskwithSegmentTissue\u001b[0m\u001b[0;34m(\u001b[0m\u001b[0;34m)\u001b[0m\u001b[0;34m,\u001b[0m \u001b[0mscale_factor\u001b[0m\u001b[0;34m=\u001b[0m\u001b[0;36m32\u001b[0m\u001b[0;34m,\u001b[0m \u001b[0malpha\u001b[0m \u001b[0;34m=\u001b[0m \u001b[0;36m128\u001b[0m \u001b[0;34m)\u001b[0m\u001b[0;34m\u001b[0m\u001b[0;34m\u001b[0m\u001b[0m\n",
      "\u001b[0;31mNameError\u001b[0m: name 'GridTiler' is not defined"
     ]
    }
   ],
   "source": [
    "# level should vary between 0,1 and 2\n",
    "gridtiler = GridTiler(tile_size = (224,224), level=0, tissue_percent=0.75)\n",
    "gridtiler.locate_tiles(slide = firstslide, extraction_mask = MaskwithSegmentTissue(), scale_factor=32, alpha = 128 )"
   ]
  },
  {
   "cell_type": "code",
   "execution_count": null,
   "metadata": {},
   "outputs": [],
   "source": []
  },
  {
   "cell_type": "code",
   "execution_count": 95,
   "metadata": {},
   "outputs": [],
   "source": [
    "image_path = '/Users/imac/Documents/Documents_Pieter_MacBook_Pro/0MasterAI/THESIS/data/CAMELYON/normal_001.tif'\n",
    "processed_path = '/Users/imac/Documents/tryout'\n",
    "firstslide = Slide(image_path,processed_path)\n",
    "\n",
    "#note: maskwithsegmenttissue has a level, and gritiler has a level\n",
    "\n",
    "gridtiler = GridTiler(tile_size = (224,224), level = 4, tissue_percent=0.75)\n",
    "gridtiler.extract(slide = firstslide, extraction_mask = MaskwithSegmentTissue())\n"
   ]
  },
  {
   "cell_type": "code",
   "execution_count": 113,
   "metadata": {},
   "outputs": [
    {
     "name": "stdout",
     "output_type": "stream",
     "text": [
      "normal\n",
      "normal\n",
      "normal\n"
     ]
    }
   ],
   "source": [
    "# training set\n",
    "folder = '/Users/imac/Documents/Documents_Pieter_MacBook_Pro/0MasterAI/THESIS/data/CAMELYON'\n",
    "\n",
    "#first a loop for normal \n",
    "index = 1\n",
    "for idx, image in enumerate(os.listdir(folder)):\n",
    "    if image[:6] == 'normal':\n",
    "        print(image[:6])\n",
    "        image_path = os.path.join(folder, image)\n",
    "        processed_path = os.path.join('/Users/imac/Documents/tryoutcamelyon/training_data/normal', str(index))\n",
    "        slide = Slide(image_path, processed_path)\n",
    "        gridtiler = GridTiler(tile_size = (224,224), level = 4, tissue_percent=0.75)\n",
    "        gridtiler.extract(slide = slide, extraction_mask = MaskwithSegmentTissue())\n",
    "        index += 1\n",
    "        \n",
    "\n",
    "    \n",
    "\n",
    "#then a loop for tumor \n",
    "\n"
   ]
  },
  {
   "cell_type": "code",
   "execution_count": null,
   "metadata": {},
   "outputs": [],
   "source": []
  },
  {
   "cell_type": "code",
   "execution_count": null,
   "metadata": {},
   "outputs": [],
   "source": []
  },
  {
   "cell_type": "code",
   "execution_count": null,
   "metadata": {},
   "outputs": [],
   "source": []
  }
 ],
 "metadata": {
  "kernelspec": {
   "display_name": "Python 3",
   "language": "python",
   "name": "python3"
  },
  "language_info": {
   "codemirror_mode": {
    "name": "ipython",
    "version": 3
   },
   "file_extension": ".py",
   "mimetype": "text/x-python",
   "name": "python",
   "nbconvert_exporter": "python",
   "pygments_lexer": "ipython3",
   "version": "3.8.5"
  }
 },
 "nbformat": 4,
 "nbformat_minor": 4
}
